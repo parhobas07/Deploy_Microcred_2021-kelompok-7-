git init
git add README.md  
git add GeeksForGeeks.ipynb
git commit -m "notebook first commit" 
git remote add origin https://github.com/{Your repo}/GeeksForGeeks.git 
git push -u origin master 

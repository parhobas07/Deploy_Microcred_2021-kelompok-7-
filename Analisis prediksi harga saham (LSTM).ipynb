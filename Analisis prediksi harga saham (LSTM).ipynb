{
 "cells": [
  {
   "cell_type": "markdown",
   "id": "be4dbfd8",
   "metadata": {},
   "source": [
    "### Nama Anggota :\n",
    "### Dimas Akbar Ferdiansyah\n",
    "### Juntri parhacian dolok saribu\n",
    "### Addo Adantya Abiesa\n",
    "\n",
    "### ITS-04 Kelompok 7\n",
    "\n",
    "\n",
    "## Prediksi Harga Saham menggunakan machine learning dengan metode Long Short Therm Memory (LSTM)"
   ]
  },
  {
   "cell_type": "markdown",
   "id": "6fd1f011",
   "metadata": {},
   "source": [
    "### Tahap 1: Load Modules"
   ]
  },
  {
   "cell_type": "code",
   "execution_count": 278,
   "id": "601209a4",
   "metadata": {},
   "outputs": [],
   "source": [
    "from __future__ import print_function\n",
    "import os\n",
    "import math\n",
    "import pandas as pd\n",
    "import numpy as np\n",
    "%matplotlib inline\n",
    "from matplotlib import pyplot as plt\n",
    "import seaborn as sns\n",
    "from statsmodels.tsa import stattools\n",
    "from pandas.plotting import autocorrelation_plot\n",
    "from statsmodels.tsa.seasonal import seasonal_decompose\n",
    "import warnings \n",
    "warnings.filterwarnings('ignore')\n",
    "from sklearn.preprocessing import MinMaxScaler\n",
    "from keras.models import Sequential\n",
    "from keras.layers import Dense, LSTM\n",
    "plt.style.use('fivethirtyeight')"
   ]
  },
  {
   "cell_type": "markdown",
   "id": "f74a34f9",
   "metadata": {},
   "source": [
    "### Tahap 2: Import data set saham yang akan dianalisis"
   ]
  },
  {
   "cell_type": "markdown",
   "id": "0ee3323a",
   "metadata": {},
   "source": [
    "Disini kita akan menganalisis saham Lippo Karawaci Tbk PT"
   ]
  },
  {
   "cell_type": "code",
   "execution_count": 279,
   "id": "d918346f",
   "metadata": {},
   "outputs": [
    {
     "data": {
      "text/html": [
       "<div>\n",
       "<style scoped>\n",
       "    .dataframe tbody tr th:only-of-type {\n",
       "        vertical-align: middle;\n",
       "    }\n",
       "\n",
       "    .dataframe tbody tr th {\n",
       "        vertical-align: top;\n",
       "    }\n",
       "\n",
       "    .dataframe thead th {\n",
       "        text-align: right;\n",
       "    }\n",
       "</style>\n",
       "<table border=\"1\" class=\"dataframe\">\n",
       "  <thead>\n",
       "    <tr style=\"text-align: right;\">\n",
       "      <th></th>\n",
       "      <th>Date</th>\n",
       "      <th>Open</th>\n",
       "      <th>High</th>\n",
       "      <th>Low</th>\n",
       "      <th>Close</th>\n",
       "      <th>Adj Close</th>\n",
       "      <th>Volume</th>\n",
       "    </tr>\n",
       "  </thead>\n",
       "  <tbody>\n",
       "    <tr>\n",
       "      <th>0</th>\n",
       "      <td>2014-01-13</td>\n",
       "      <td>710.243042</td>\n",
       "      <td>745.953613</td>\n",
       "      <td>706.275208</td>\n",
       "      <td>745.953613</td>\n",
       "      <td>715.769165</td>\n",
       "      <td>392040170</td>\n",
       "    </tr>\n",
       "    <tr>\n",
       "      <th>1</th>\n",
       "      <td>2014-01-15</td>\n",
       "      <td>745.953613</td>\n",
       "      <td>769.760620</td>\n",
       "      <td>741.985779</td>\n",
       "      <td>761.824951</td>\n",
       "      <td>730.998230</td>\n",
       "      <td>307757501</td>\n",
       "    </tr>\n",
       "    <tr>\n",
       "      <th>2</th>\n",
       "      <td>2014-01-16</td>\n",
       "      <td>761.824951</td>\n",
       "      <td>777.696289</td>\n",
       "      <td>749.921448</td>\n",
       "      <td>765.792786</td>\n",
       "      <td>734.805542</td>\n",
       "      <td>213343623</td>\n",
       "    </tr>\n",
       "    <tr>\n",
       "      <th>3</th>\n",
       "      <td>2014-01-17</td>\n",
       "      <td>761.824951</td>\n",
       "      <td>777.696289</td>\n",
       "      <td>757.857117</td>\n",
       "      <td>765.792786</td>\n",
       "      <td>734.805542</td>\n",
       "      <td>174421548</td>\n",
       "    </tr>\n",
       "    <tr>\n",
       "      <th>4</th>\n",
       "      <td>2014-01-20</td>\n",
       "      <td>769.760620</td>\n",
       "      <td>773.728455</td>\n",
       "      <td>761.824951</td>\n",
       "      <td>765.792786</td>\n",
       "      <td>734.805542</td>\n",
       "      <td>98396525</td>\n",
       "    </tr>\n",
       "    <tr>\n",
       "      <th>5</th>\n",
       "      <td>2014-01-21</td>\n",
       "      <td>769.760620</td>\n",
       "      <td>777.696289</td>\n",
       "      <td>761.824951</td>\n",
       "      <td>773.728455</td>\n",
       "      <td>742.420105</td>\n",
       "      <td>157218604</td>\n",
       "    </tr>\n",
       "    <tr>\n",
       "      <th>6</th>\n",
       "      <td>2014-01-22</td>\n",
       "      <td>773.728455</td>\n",
       "      <td>777.696289</td>\n",
       "      <td>765.792786</td>\n",
       "      <td>773.728455</td>\n",
       "      <td>742.420105</td>\n",
       "      <td>68760866</td>\n",
       "    </tr>\n",
       "    <tr>\n",
       "      <th>7</th>\n",
       "      <td>2014-01-23</td>\n",
       "      <td>773.728455</td>\n",
       "      <td>793.567627</td>\n",
       "      <td>773.728455</td>\n",
       "      <td>781.664124</td>\n",
       "      <td>750.034729</td>\n",
       "      <td>204786571</td>\n",
       "    </tr>\n",
       "    <tr>\n",
       "      <th>8</th>\n",
       "      <td>2014-01-24</td>\n",
       "      <td>777.696289</td>\n",
       "      <td>781.664124</td>\n",
       "      <td>769.760620</td>\n",
       "      <td>777.696289</td>\n",
       "      <td>746.227356</td>\n",
       "      <td>66397993</td>\n",
       "    </tr>\n",
       "    <tr>\n",
       "      <th>9</th>\n",
       "      <td>2014-01-27</td>\n",
       "      <td>769.760620</td>\n",
       "      <td>769.760620</td>\n",
       "      <td>738.017944</td>\n",
       "      <td>738.017944</td>\n",
       "      <td>708.154663</td>\n",
       "      <td>79113733</td>\n",
       "    </tr>\n",
       "  </tbody>\n",
       "</table>\n",
       "</div>"
      ],
      "text/plain": [
       "         Date        Open        High         Low       Close   Adj Close  \\\n",
       "0  2014-01-13  710.243042  745.953613  706.275208  745.953613  715.769165   \n",
       "1  2014-01-15  745.953613  769.760620  741.985779  761.824951  730.998230   \n",
       "2  2014-01-16  761.824951  777.696289  749.921448  765.792786  734.805542   \n",
       "3  2014-01-17  761.824951  777.696289  757.857117  765.792786  734.805542   \n",
       "4  2014-01-20  769.760620  773.728455  761.824951  765.792786  734.805542   \n",
       "5  2014-01-21  769.760620  777.696289  761.824951  773.728455  742.420105   \n",
       "6  2014-01-22  773.728455  777.696289  765.792786  773.728455  742.420105   \n",
       "7  2014-01-23  773.728455  793.567627  773.728455  781.664124  750.034729   \n",
       "8  2014-01-24  777.696289  781.664124  769.760620  777.696289  746.227356   \n",
       "9  2014-01-27  769.760620  769.760620  738.017944  738.017944  708.154663   \n",
       "\n",
       "      Volume  \n",
       "0  392040170  \n",
       "1  307757501  \n",
       "2  213343623  \n",
       "3  174421548  \n",
       "4   98396525  \n",
       "5  157218604  \n",
       "6   68760866  \n",
       "7  204786571  \n",
       "8   66397993  \n",
       "9   79113733  "
      ]
     },
     "execution_count": 279,
     "metadata": {},
     "output_type": "execute_result"
    }
   ],
   "source": [
    "#Import Data\n",
    "df = pd.read_csv(\"LPKR.JK.csv\")\n",
    "df.head(10)"
   ]
  },
  {
   "cell_type": "code",
   "execution_count": 280,
   "id": "2d56cf45",
   "metadata": {},
   "outputs": [
    {
     "data": {
      "text/html": [
       "<div>\n",
       "<style scoped>\n",
       "    .dataframe tbody tr th:only-of-type {\n",
       "        vertical-align: middle;\n",
       "    }\n",
       "\n",
       "    .dataframe tbody tr th {\n",
       "        vertical-align: top;\n",
       "    }\n",
       "\n",
       "    .dataframe thead th {\n",
       "        text-align: right;\n",
       "    }\n",
       "</style>\n",
       "<table border=\"1\" class=\"dataframe\">\n",
       "  <thead>\n",
       "    <tr style=\"text-align: right;\">\n",
       "      <th></th>\n",
       "      <th>Date</th>\n",
       "      <th>Open</th>\n",
       "      <th>High</th>\n",
       "      <th>Low</th>\n",
       "      <th>Close</th>\n",
       "      <th>Adj Close</th>\n",
       "      <th>Volume</th>\n",
       "    </tr>\n",
       "  </thead>\n",
       "  <tbody>\n",
       "    <tr>\n",
       "      <th>1971</th>\n",
       "      <td>2021-12-06</td>\n",
       "      <td>144.0</td>\n",
       "      <td>146.0</td>\n",
       "      <td>143.0</td>\n",
       "      <td>143.0</td>\n",
       "      <td>143.0</td>\n",
       "      <td>45432800</td>\n",
       "    </tr>\n",
       "    <tr>\n",
       "      <th>1972</th>\n",
       "      <td>2021-12-07</td>\n",
       "      <td>144.0</td>\n",
       "      <td>146.0</td>\n",
       "      <td>143.0</td>\n",
       "      <td>146.0</td>\n",
       "      <td>146.0</td>\n",
       "      <td>43997700</td>\n",
       "    </tr>\n",
       "    <tr>\n",
       "      <th>1973</th>\n",
       "      <td>2021-12-08</td>\n",
       "      <td>147.0</td>\n",
       "      <td>151.0</td>\n",
       "      <td>146.0</td>\n",
       "      <td>148.0</td>\n",
       "      <td>148.0</td>\n",
       "      <td>74345500</td>\n",
       "    </tr>\n",
       "    <tr>\n",
       "      <th>1974</th>\n",
       "      <td>2021-12-09</td>\n",
       "      <td>149.0</td>\n",
       "      <td>151.0</td>\n",
       "      <td>147.0</td>\n",
       "      <td>147.0</td>\n",
       "      <td>147.0</td>\n",
       "      <td>32407200</td>\n",
       "    </tr>\n",
       "    <tr>\n",
       "      <th>1975</th>\n",
       "      <td>2021-12-10</td>\n",
       "      <td>148.0</td>\n",
       "      <td>150.0</td>\n",
       "      <td>146.0</td>\n",
       "      <td>148.0</td>\n",
       "      <td>148.0</td>\n",
       "      <td>26537000</td>\n",
       "    </tr>\n",
       "  </tbody>\n",
       "</table>\n",
       "</div>"
      ],
      "text/plain": [
       "            Date   Open   High    Low  Close  Adj Close    Volume\n",
       "1971  2021-12-06  144.0  146.0  143.0  143.0      143.0  45432800\n",
       "1972  2021-12-07  144.0  146.0  143.0  146.0      146.0  43997700\n",
       "1973  2021-12-08  147.0  151.0  146.0  148.0      148.0  74345500\n",
       "1974  2021-12-09  149.0  151.0  147.0  147.0      147.0  32407200\n",
       "1975  2021-12-10  148.0  150.0  146.0  148.0      148.0  26537000"
      ]
     },
     "execution_count": 280,
     "metadata": {},
     "output_type": "execute_result"
    }
   ],
   "source": [
    "df.tail()"
   ]
  },
  {
   "cell_type": "code",
   "execution_count": 281,
   "id": "f8f264dd",
   "metadata": {},
   "outputs": [
    {
     "data": {
      "text/plain": [
       "(1976, 7)"
      ]
     },
     "execution_count": 281,
     "metadata": {},
     "output_type": "execute_result"
    }
   ],
   "source": [
    "df.shape"
   ]
  },
  {
   "cell_type": "code",
   "execution_count": 282,
   "id": "246e93a1",
   "metadata": {},
   "outputs": [
    {
     "name": "stdout",
     "output_type": "stream",
     "text": [
      "<class 'pandas.core.frame.DataFrame'>\n",
      "RangeIndex: 1976 entries, 0 to 1975\n",
      "Data columns (total 7 columns):\n",
      " #   Column     Non-Null Count  Dtype  \n",
      "---  ------     --------------  -----  \n",
      " 0   Date       1976 non-null   object \n",
      " 1   Open       1976 non-null   float64\n",
      " 2   High       1976 non-null   float64\n",
      " 3   Low        1976 non-null   float64\n",
      " 4   Close      1976 non-null   float64\n",
      " 5   Adj Close  1976 non-null   float64\n",
      " 6   Volume     1976 non-null   int64  \n",
      "dtypes: float64(5), int64(1), object(1)\n",
      "memory usage: 108.2+ KB\n"
     ]
    }
   ],
   "source": [
    "df.info()"
   ]
  },
  {
   "cell_type": "code",
   "execution_count": 283,
   "id": "9812850e",
   "metadata": {},
   "outputs": [
    {
     "data": {
      "text/plain": [
       "Date         0\n",
       "Open         0\n",
       "High         0\n",
       "Low          0\n",
       "Close        0\n",
       "Adj Close    0\n",
       "Volume       0\n",
       "dtype: int64"
      ]
     },
     "execution_count": 283,
     "metadata": {},
     "output_type": "execute_result"
    }
   ],
   "source": [
    "df.isnull().sum()"
   ]
  },
  {
   "cell_type": "markdown",
   "id": "26eb7d02",
   "metadata": {},
   "source": [
    "Tidak ada data yang kosong"
   ]
  },
  {
   "cell_type": "code",
   "execution_count": 284,
   "id": "c5af1e6e",
   "metadata": {},
   "outputs": [
    {
     "data": {
      "text/html": [
       "<div>\n",
       "<style scoped>\n",
       "    .dataframe tbody tr th:only-of-type {\n",
       "        vertical-align: middle;\n",
       "    }\n",
       "\n",
       "    .dataframe tbody tr th {\n",
       "        vertical-align: top;\n",
       "    }\n",
       "\n",
       "    .dataframe thead th {\n",
       "        text-align: right;\n",
       "    }\n",
       "</style>\n",
       "<table border=\"1\" class=\"dataframe\">\n",
       "  <thead>\n",
       "    <tr style=\"text-align: right;\">\n",
       "      <th></th>\n",
       "      <th>Open</th>\n",
       "      <th>High</th>\n",
       "      <th>Low</th>\n",
       "      <th>Close</th>\n",
       "      <th>Adj Close</th>\n",
       "      <th>Volume</th>\n",
       "    </tr>\n",
       "  </thead>\n",
       "  <tbody>\n",
       "    <tr>\n",
       "      <th>count</th>\n",
       "      <td>1976.000000</td>\n",
       "      <td>1976.000000</td>\n",
       "      <td>1976.000000</td>\n",
       "      <td>1976.000000</td>\n",
       "      <td>1976.000000</td>\n",
       "      <td>1.976000e+03</td>\n",
       "    </tr>\n",
       "    <tr>\n",
       "      <th>mean</th>\n",
       "      <td>501.234583</td>\n",
       "      <td>510.184443</td>\n",
       "      <td>492.971487</td>\n",
       "      <td>501.351571</td>\n",
       "      <td>492.969600</td>\n",
       "      <td>8.765271e+07</td>\n",
       "    </tr>\n",
       "    <tr>\n",
       "      <th>std</th>\n",
       "      <td>301.841335</td>\n",
       "      <td>306.545132</td>\n",
       "      <td>297.599476</td>\n",
       "      <td>302.552745</td>\n",
       "      <td>293.323943</td>\n",
       "      <td>1.003858e+08</td>\n",
       "    </tr>\n",
       "    <tr>\n",
       "      <th>min</th>\n",
       "      <td>113.000000</td>\n",
       "      <td>121.000000</td>\n",
       "      <td>113.000000</td>\n",
       "      <td>119.000000</td>\n",
       "      <td>119.000000</td>\n",
       "      <td>0.000000e+00</td>\n",
       "    </tr>\n",
       "    <tr>\n",
       "      <th>25%</th>\n",
       "      <td>226.960342</td>\n",
       "      <td>232.000000</td>\n",
       "      <td>222.149208</td>\n",
       "      <td>226.960342</td>\n",
       "      <td>226.960342</td>\n",
       "      <td>3.605770e+07</td>\n",
       "    </tr>\n",
       "    <tr>\n",
       "      <th>50%</th>\n",
       "      <td>408.687347</td>\n",
       "      <td>416.623016</td>\n",
       "      <td>400.751678</td>\n",
       "      <td>408.687347</td>\n",
       "      <td>405.403259</td>\n",
       "      <td>6.665500e+07</td>\n",
       "    </tr>\n",
       "    <tr>\n",
       "      <th>75%</th>\n",
       "      <td>813.406860</td>\n",
       "      <td>825.310364</td>\n",
       "      <td>805.471191</td>\n",
       "      <td>813.406860</td>\n",
       "      <td>794.554947</td>\n",
       "      <td>1.097905e+08</td>\n",
       "    </tr>\n",
       "    <tr>\n",
       "      <th>max</th>\n",
       "      <td>1150.673096</td>\n",
       "      <td>1158.608765</td>\n",
       "      <td>1142.737427</td>\n",
       "      <td>1158.608765</td>\n",
       "      <td>1125.180786</td>\n",
       "      <td>1.587737e+09</td>\n",
       "    </tr>\n",
       "  </tbody>\n",
       "</table>\n",
       "</div>"
      ],
      "text/plain": [
       "              Open         High          Low        Close    Adj Close  \\\n",
       "count  1976.000000  1976.000000  1976.000000  1976.000000  1976.000000   \n",
       "mean    501.234583   510.184443   492.971487   501.351571   492.969600   \n",
       "std     301.841335   306.545132   297.599476   302.552745   293.323943   \n",
       "min     113.000000   121.000000   113.000000   119.000000   119.000000   \n",
       "25%     226.960342   232.000000   222.149208   226.960342   226.960342   \n",
       "50%     408.687347   416.623016   400.751678   408.687347   405.403259   \n",
       "75%     813.406860   825.310364   805.471191   813.406860   794.554947   \n",
       "max    1150.673096  1158.608765  1142.737427  1158.608765  1125.180786   \n",
       "\n",
       "             Volume  \n",
       "count  1.976000e+03  \n",
       "mean   8.765271e+07  \n",
       "std    1.003858e+08  \n",
       "min    0.000000e+00  \n",
       "25%    3.605770e+07  \n",
       "50%    6.665500e+07  \n",
       "75%    1.097905e+08  \n",
       "max    1.587737e+09  "
      ]
     },
     "execution_count": 284,
     "metadata": {},
     "output_type": "execute_result"
    }
   ],
   "source": [
    "df.describe()"
   ]
  },
  {
   "cell_type": "code",
   "execution_count": 285,
   "id": "9b9d5f1f",
   "metadata": {},
   "outputs": [
    {
     "data": {
      "text/html": [
       "<div>\n",
       "<style scoped>\n",
       "    .dataframe tbody tr th:only-of-type {\n",
       "        vertical-align: middle;\n",
       "    }\n",
       "\n",
       "    .dataframe tbody tr th {\n",
       "        vertical-align: top;\n",
       "    }\n",
       "\n",
       "    .dataframe thead th {\n",
       "        text-align: right;\n",
       "    }\n",
       "</style>\n",
       "<table border=\"1\" class=\"dataframe\">\n",
       "  <thead>\n",
       "    <tr style=\"text-align: right;\">\n",
       "      <th></th>\n",
       "      <th>Date</th>\n",
       "      <th>Close</th>\n",
       "    </tr>\n",
       "  </thead>\n",
       "  <tbody>\n",
       "    <tr>\n",
       "      <th>0</th>\n",
       "      <td>2014-01-13</td>\n",
       "      <td>745.953613</td>\n",
       "    </tr>\n",
       "    <tr>\n",
       "      <th>1</th>\n",
       "      <td>2014-01-15</td>\n",
       "      <td>761.824951</td>\n",
       "    </tr>\n",
       "    <tr>\n",
       "      <th>2</th>\n",
       "      <td>2014-01-16</td>\n",
       "      <td>765.792786</td>\n",
       "    </tr>\n",
       "    <tr>\n",
       "      <th>3</th>\n",
       "      <td>2014-01-17</td>\n",
       "      <td>765.792786</td>\n",
       "    </tr>\n",
       "    <tr>\n",
       "      <th>4</th>\n",
       "      <td>2014-01-20</td>\n",
       "      <td>765.792786</td>\n",
       "    </tr>\n",
       "    <tr>\n",
       "      <th>5</th>\n",
       "      <td>2014-01-21</td>\n",
       "      <td>773.728455</td>\n",
       "    </tr>\n",
       "    <tr>\n",
       "      <th>6</th>\n",
       "      <td>2014-01-22</td>\n",
       "      <td>773.728455</td>\n",
       "    </tr>\n",
       "    <tr>\n",
       "      <th>7</th>\n",
       "      <td>2014-01-23</td>\n",
       "      <td>781.664124</td>\n",
       "    </tr>\n",
       "    <tr>\n",
       "      <th>8</th>\n",
       "      <td>2014-01-24</td>\n",
       "      <td>777.696289</td>\n",
       "    </tr>\n",
       "    <tr>\n",
       "      <th>9</th>\n",
       "      <td>2014-01-27</td>\n",
       "      <td>738.017944</td>\n",
       "    </tr>\n",
       "  </tbody>\n",
       "</table>\n",
       "</div>"
      ],
      "text/plain": [
       "         Date       Close\n",
       "0  2014-01-13  745.953613\n",
       "1  2014-01-15  761.824951\n",
       "2  2014-01-16  765.792786\n",
       "3  2014-01-17  765.792786\n",
       "4  2014-01-20  765.792786\n",
       "5  2014-01-21  773.728455\n",
       "6  2014-01-22  773.728455\n",
       "7  2014-01-23  781.664124\n",
       "8  2014-01-24  777.696289\n",
       "9  2014-01-27  738.017944"
      ]
     },
     "execution_count": 285,
     "metadata": {},
     "output_type": "execute_result"
    }
   ],
   "source": [
    "data = df[['Date', 'Close']]\n",
    "data.head(10)"
   ]
  },
  {
   "cell_type": "code",
   "execution_count": 286,
   "id": "a506a1fb",
   "metadata": {},
   "outputs": [
    {
     "data": {
      "text/html": [
       "<div>\n",
       "<style scoped>\n",
       "    .dataframe tbody tr th:only-of-type {\n",
       "        vertical-align: middle;\n",
       "    }\n",
       "\n",
       "    .dataframe tbody tr th {\n",
       "        vertical-align: top;\n",
       "    }\n",
       "\n",
       "    .dataframe thead th {\n",
       "        text-align: right;\n",
       "    }\n",
       "</style>\n",
       "<table border=\"1\" class=\"dataframe\">\n",
       "  <thead>\n",
       "    <tr style=\"text-align: right;\">\n",
       "      <th></th>\n",
       "      <th>Close</th>\n",
       "    </tr>\n",
       "    <tr>\n",
       "      <th>Date</th>\n",
       "      <th></th>\n",
       "    </tr>\n",
       "  </thead>\n",
       "  <tbody>\n",
       "    <tr>\n",
       "      <th>2014-01-13</th>\n",
       "      <td>745.953613</td>\n",
       "    </tr>\n",
       "    <tr>\n",
       "      <th>2014-01-15</th>\n",
       "      <td>761.824951</td>\n",
       "    </tr>\n",
       "    <tr>\n",
       "      <th>2014-01-16</th>\n",
       "      <td>765.792786</td>\n",
       "    </tr>\n",
       "    <tr>\n",
       "      <th>2014-01-17</th>\n",
       "      <td>765.792786</td>\n",
       "    </tr>\n",
       "    <tr>\n",
       "      <th>2014-01-20</th>\n",
       "      <td>765.792786</td>\n",
       "    </tr>\n",
       "    <tr>\n",
       "      <th>2014-01-21</th>\n",
       "      <td>773.728455</td>\n",
       "    </tr>\n",
       "    <tr>\n",
       "      <th>2014-01-22</th>\n",
       "      <td>773.728455</td>\n",
       "    </tr>\n",
       "    <tr>\n",
       "      <th>2014-01-23</th>\n",
       "      <td>781.664124</td>\n",
       "    </tr>\n",
       "    <tr>\n",
       "      <th>2014-01-24</th>\n",
       "      <td>777.696289</td>\n",
       "    </tr>\n",
       "    <tr>\n",
       "      <th>2014-01-27</th>\n",
       "      <td>738.017944</td>\n",
       "    </tr>\n",
       "  </tbody>\n",
       "</table>\n",
       "</div>"
      ],
      "text/plain": [
       "                 Close\n",
       "Date                  \n",
       "2014-01-13  745.953613\n",
       "2014-01-15  761.824951\n",
       "2014-01-16  765.792786\n",
       "2014-01-17  765.792786\n",
       "2014-01-20  765.792786\n",
       "2014-01-21  773.728455\n",
       "2014-01-22  773.728455\n",
       "2014-01-23  781.664124\n",
       "2014-01-24  777.696289\n",
       "2014-01-27  738.017944"
      ]
     },
     "execution_count": 286,
     "metadata": {},
     "output_type": "execute_result"
    }
   ],
   "source": [
    "data.index = data['Date'].map(lambda d: pd.to_datetime(d, format = '%Y-%m-%d'))\n",
    "data.drop('Date',axis=1, inplace=True)\n",
    "data.head(10)"
   ]
  },
  {
   "cell_type": "code",
   "execution_count": null,
   "id": "bbe96cbc",
   "metadata": {},
   "outputs": [],
   "source": []
  },
  {
   "cell_type": "markdown",
   "id": "e3c60b79",
   "metadata": {},
   "source": [
    "# Visualisasi Data "
   ]
  },
  {
   "cell_type": "code",
   "execution_count": 287,
   "id": "32d80f4c",
   "metadata": {},
   "outputs": [
    {
     "data": {
      "text/plain": [
       "[<matplotlib.lines.Line2D at 0x15118faeb20>]"
      ]
     },
     "execution_count": 287,
     "metadata": {},
     "output_type": "execute_result"
    },
    {
     "data": {
      "image/png": "[encoded data removed]",
      "text/plain": [
       "<Figure size 1152x576 with 1 Axes>"
      ]
     },
     "metadata": {},
     "output_type": "display_data"
    }
   ],
   "source": [
    "plt.figure(figsize=(16,8))\n",
    "plt.title('Model')\n",
    "plt.xlabel('Date', fontsize=18)\n",
    "plt.ylabel('Harga Penutupan', fontsize=18)\n",
    "plt.plot(train['Close'])"
   ]
  },
  {
   "cell_type": "code",
   "execution_count": 288,
   "id": "7bc589d6",
   "metadata": {},
   "outputs": [
    {
     "data": {
      "text/plain": [
       "1581"
      ]
     },
     "execution_count": 288,
     "metadata": {},
     "output_type": "execute_result"
    }
   ],
   "source": [
    "data = data.filter(['Close'])\n",
    "dataset = data.values\n",
    "\n",
    "#menghitung jumlah baris yang dilatih.\n",
    "training_data_len = math.ceil( len(dataset) * .8 )\n",
    "\n",
    "training_data_len"
   ]
  },
  {
   "cell_type": "code",
   "execution_count": 289,
   "id": "bbfd74f0",
   "metadata": {},
   "outputs": [
    {
     "data": {
      "text/plain": [
       "array([[0.60306688],\n",
       "       [0.61833352],\n",
       "       [0.62215019],\n",
       "       ...,\n",
       "       [0.02789511],\n",
       "       [0.02693321],\n",
       "       [0.02789511]])"
      ]
     },
     "execution_count": 289,
     "metadata": {},
     "output_type": "execute_result"
    }
   ],
   "source": [
    "#mengukur data\n",
    "scaler = MinMaxScaler(feature_range=(0,1))\n",
    "scaled_data = scaler.fit_transform(dataset)\n",
    "\n",
    "scaled_data"
   ]
  },
  {
   "cell_type": "code",
   "execution_count": 290,
   "id": "94cc9a1e",
   "metadata": {},
   "outputs": [
    {
     "name": "stdout",
     "output_type": "stream",
     "text": [
      "[array([0.60306688, 0.61833352, 0.62215019, 0.62215019, 0.62215019,\n",
      "       0.62978351, 0.62978351, 0.63741683, 0.63360017, 0.59543356,\n",
      "       0.59925022, 0.61451686, 0.6107002 , 0.60306688, 0.5916169 ,\n",
      "       0.58780023, 0.5916169 , 0.59543356, 0.59543356, 0.59543356,\n",
      "       0.59543356, 0.5916169 , 0.59925022, 0.61451686, 0.60306688,\n",
      "       0.59543356, 0.59543356, 0.6107002 , 0.60306688, 0.59925022,\n",
      "       0.59543356, 0.60688354, 0.60306688, 0.59925022, 0.59543356,\n",
      "       0.59543356, 0.6107002 , 0.66795018, 0.69848347, 0.69466681,\n",
      "       0.71375017, 0.72138349, 0.75191678, 0.83588345, 0.83970011,\n",
      "       0.83588345, 0.79390012, 0.79008346, 0.77481681, 0.74810012,\n",
      "       0.75191678, 0.70993345, 0.71375017, 0.76718343, 0.75955011,\n",
      "       0.77863347, 0.76718343, 0.79771678, 0.80153344, 0.80153344,\n",
      "       0.7404668 , 0.72138349, 0.74810012, 0.74428346, 0.73665014,\n",
      "       0.73665014, 0.72520016, 0.69848347, 0.69085015, 0.70611679,\n",
      "       0.71375017, 0.69848347, 0.70230013, 0.70230013, 0.70230013,\n",
      "       0.69466681, 0.68703349, 0.69466681, 0.69085015, 0.69466681])]\n",
      "[0.7175668339040986]\n",
      "\n"
     ]
    }
   ],
   "source": [
    "#membuat dataset latih\n",
    "#membuat scaled dataset\n",
    "train_data = scaled_data[0:training_data_len , :]\n",
    "#membagi data ke x_train dan y_train dataset\n",
    "x_train = []\n",
    "y_train = []\n",
    "for i in range(80, len(train_data)):\n",
    "    x_train.append(train_data[i-80:i, 0])\n",
    "    y_train.append(train_data[i,0])\n",
    "    if i<=80:\n",
    "        print(x_train)\n",
    "        print(y_train)\n",
    "        print()"
   ]
  },
  {
   "cell_type": "code",
   "execution_count": 291,
   "id": "7aac88e0",
   "metadata": {},
   "outputs": [],
   "source": [
    "#menghubah x_train dan y_train ke dlan numpy arrays\n",
    "x_train, y_train = np.array(x_train), np.array(y_train)"
   ]
  },
  {
   "cell_type": "code",
   "execution_count": 292,
   "id": "0d8b1649",
   "metadata": {},
   "outputs": [
    {
     "data": {
      "text/plain": [
       "(1501, 80, 1)"
      ]
     },
     "execution_count": 292,
     "metadata": {},
     "output_type": "execute_result"
    }
   ],
   "source": [
    "#reshape data\n",
    "x_train = np.reshape(x_train, (x_train.shape[0], x_train.shape[1],1))\n",
    "x_train.shape"
   ]
  },
  {
   "cell_type": "code",
   "execution_count": 293,
   "id": "d5a10399",
   "metadata": {},
   "outputs": [],
   "source": [
    "#membangun model LSTM\n",
    "model = Sequential()\n",
    "model.add(LSTM(50, return_sequences=True, input_shape= (x_train.shape[1],1)))\n",
    "model.add(LSTM(50, return_sequences= False))\n",
    "model.add(Dense(1))"
   ]
  },
  {
   "cell_type": "code",
   "execution_count": 294,
   "id": "3cb76613",
   "metadata": {},
   "outputs": [],
   "source": [
    "#Menyusun model\n",
    "model.compile(optimizer='adam', loss='mean_squared_error')"
   ]
  },
  {
   "cell_type": "code",
   "execution_count": 295,
   "id": "bbe58732",
   "metadata": {},
   "outputs": [
    {
     "name": "stdout",
     "output_type": "stream",
     "text": [
      "1501/1501 [==============================] - 37s 23ms/step - loss: 0.0029\n"
     ]
    },
    {
     "data": {
      "text/plain": [
       "<keras.callbacks.History at 0x151190ac4f0>"
      ]
     },
     "execution_count": 295,
     "metadata": {},
     "output_type": "execute_result"
    }
   ],
   "source": [
    "#Melatih/Train model \n",
    "model.fit(x_train, y_train, batch_size=1, epochs=1)"
   ]
  },
  {
   "cell_type": "code",
   "execution_count": 296,
   "id": "ffe78ea6",
   "metadata": {},
   "outputs": [],
   "source": [
    "#Membuat Testing Dataset\n",
    "#Membuat New array yang terdiri dari 'scaled dataset' dari indes 1501 sampai dengan 1975\n",
    "test_data = scaled_data[training_data_len - 80: , :]\n",
    "\n",
    "#Membentuk dataset x_test dan y_test\n",
    "x_test = []\n",
    "y_test = dataset[training_data_len:, :]\n",
    "for i in range(80, len(test_data)):\n",
    "    x_test.append(test_data[i-80:i, 0])\n",
    "    "
   ]
  },
  {
   "cell_type": "code",
   "execution_count": 297,
   "id": "f2b99b75",
   "metadata": {},
   "outputs": [],
   "source": [
    "#Mengubah data ke bentuk numypy array\n",
    "x_test = np.array(x_test)"
   ]
  },
  {
   "cell_type": "code",
   "execution_count": 298,
   "id": "c3241b38",
   "metadata": {},
   "outputs": [],
   "source": [
    "#Reshape data\n",
    "x_test = np.reshape(x_test, (x_test.shape[0], x_test.shape[1], 1 ))"
   ]
  },
  {
   "cell_type": "code",
   "execution_count": 299,
   "id": "f6b33982",
   "metadata": {},
   "outputs": [],
   "source": [
    "#membuat model prediksi harga\n",
    "predictions = model.predict(x_test)\n",
    "predictions = scaler.inverse_transform(predictions)"
   ]
  },
  {
   "cell_type": "code",
   "execution_count": 300,
   "id": "a4137334",
   "metadata": {},
   "outputs": [
    {
     "data": {
      "text/plain": [
       "5.761305603799941"
      ]
     },
     "execution_count": 300,
     "metadata": {},
     "output_type": "execute_result"
    }
   ],
   "source": [
    "#Menampilkan hasil root mean squared error (RMSE)\n",
    "rmse = np.sqrt( np.mean( predictions - y_test )**2 )\n",
    "rmse"
   ]
  },
  {
   "cell_type": "markdown",
   "id": "dcbc71a1",
   "metadata": {},
   "source": [
    "Dengan nila RMSE=5.761305603799941, dapat dikatakan tingkat akurasi data cukup baik."
   ]
  },
  {
   "cell_type": "code",
   "execution_count": 302,
   "id": "e155c4f8",
   "metadata": {},
   "outputs": [
    {
     "data": {
      "text/html": [
       "<div>\n",
       "<style scoped>\n",
       "    .dataframe tbody tr th:only-of-type {\n",
       "        vertical-align: middle;\n",
       "    }\n",
       "\n",
       "    .dataframe tbody tr th {\n",
       "        vertical-align: top;\n",
       "    }\n",
       "\n",
       "    .dataframe thead th {\n",
       "        text-align: right;\n",
       "    }\n",
       "</style>\n",
       "<table border=\"1\" class=\"dataframe\">\n",
       "  <thead>\n",
       "    <tr style=\"text-align: right;\">\n",
       "      <th></th>\n",
       "      <th>Close</th>\n",
       "      <th>Predictions</th>\n",
       "    </tr>\n",
       "    <tr>\n",
       "      <th>Date</th>\n",
       "      <th></th>\n",
       "      <th></th>\n",
       "    </tr>\n",
       "  </thead>\n",
       "  <tbody>\n",
       "    <tr>\n",
       "      <th>2020-04-27</th>\n",
       "      <td>133.0</td>\n",
       "      <td>131.248840</td>\n",
       "    </tr>\n",
       "    <tr>\n",
       "      <th>2020-04-28</th>\n",
       "      <td>140.0</td>\n",
       "      <td>129.447311</td>\n",
       "    </tr>\n",
       "    <tr>\n",
       "      <th>2020-04-29</th>\n",
       "      <td>149.0</td>\n",
       "      <td>128.708557</td>\n",
       "    </tr>\n",
       "    <tr>\n",
       "      <th>2020-04-30</th>\n",
       "      <td>162.0</td>\n",
       "      <td>129.392456</td>\n",
       "    </tr>\n",
       "    <tr>\n",
       "      <th>2020-05-04</th>\n",
       "      <td>151.0</td>\n",
       "      <td>131.915680</td>\n",
       "    </tr>\n",
       "    <tr>\n",
       "      <th>...</th>\n",
       "      <td>...</td>\n",
       "      <td>...</td>\n",
       "    </tr>\n",
       "    <tr>\n",
       "      <th>2021-12-06</th>\n",
       "      <td>143.0</td>\n",
       "      <td>138.824982</td>\n",
       "    </tr>\n",
       "    <tr>\n",
       "      <th>2021-12-07</th>\n",
       "      <td>146.0</td>\n",
       "      <td>138.661469</td>\n",
       "    </tr>\n",
       "    <tr>\n",
       "      <th>2021-12-08</th>\n",
       "      <td>148.0</td>\n",
       "      <td>138.648346</td>\n",
       "    </tr>\n",
       "    <tr>\n",
       "      <th>2021-12-09</th>\n",
       "      <td>147.0</td>\n",
       "      <td>138.890137</td>\n",
       "    </tr>\n",
       "    <tr>\n",
       "      <th>2021-12-10</th>\n",
       "      <td>148.0</td>\n",
       "      <td>139.197433</td>\n",
       "    </tr>\n",
       "  </tbody>\n",
       "</table>\n",
       "<p>395 rows × 2 columns</p>\n",
       "</div>"
      ],
      "text/plain": [
       "            Close  Predictions\n",
       "Date                          \n",
       "2020-04-27  133.0   131.248840\n",
       "2020-04-28  140.0   129.447311\n",
       "2020-04-29  149.0   128.708557\n",
       "2020-04-30  162.0   129.392456\n",
       "2020-05-04  151.0   131.915680\n",
       "...           ...          ...\n",
       "2021-12-06  143.0   138.824982\n",
       "2021-12-07  146.0   138.661469\n",
       "2021-12-08  148.0   138.648346\n",
       "2021-12-09  147.0   138.890137\n",
       "2021-12-10  148.0   139.197433\n",
       "\n",
       "[395 rows x 2 columns]"
      ]
     },
     "execution_count": 302,
     "metadata": {},
     "output_type": "execute_result"
    }
   ],
   "source": [
    "#Menampilkan harga sebenarnya dan harga prediksi\n",
    "valid"
   ]
  },
  {
   "cell_type": "code",
   "execution_count": 303,
   "id": "30828eb4",
   "metadata": {},
   "outputs": [
    {
     "data": {
      "image/png": "[encoded data removed]",
      "text/plain": [
       "<Figure size 1152x576 with 1 Axes>"
      ]
     },
     "metadata": {},
     "output_type": "display_data"
    }
   ],
   "source": [
    "#Melakukan plot Data\n",
    "train = data[:training_data_len]\n",
    "valid = data[training_data_len:]\n",
    "valid['Predictions'] = predictions\n",
    "#Memvisualisasi data\n",
    "plt.figure(figsize=(16,8))\n",
    "plt.title('Model')\n",
    "plt.xlabel('Date', fontsize=18)\n",
    "plt.ylabel('Harga Penutupan', fontsize=18)\n",
    "plt.plot(train['Close'])\n",
    "plt.plot(valid[['Close', 'Predictions']])\n",
    "plt.legend(['Train', 'Val', 'Predictions'], loc='upper right')\n",
    "plt.show()"
   ]
  },
  {
   "cell_type": "markdown",
   "id": "5c553099",
   "metadata": {},
   "source": [
    "### Kesimpulan"
   ]
  },
  {
   "cell_type": "markdown",
   "id": "800de851",
   "metadata": {},
   "source": [
    "Dapat dilihat pada plot data tersebut, garis biru menunjukan hasil data model yang dilatih. Warna orange merupakan nilai aktual untuk sisa hari selanjutnya. dan warna kunigng menunjukan adalah predksi yang dihasilkan melalui model yang telah dibuat. \n",
    "pada garis orange dan kuning, jaraknya sangat dekat yang mengartikan bahwa model yang dibuat cukup baik untuk melakukan prediksi harga."
   ]
  },
  {
   "cell_type": "code",
   "execution_count": null,
   "id": "8226a8a6",
   "metadata": {},
   "outputs": [],
   "source": []
  }
 ],
 "metadata": {
  "kernelspec": {
   "display_name": "Python 3",
   "language": "python",
   "name": "python3"
  },
  "language_info": {
   "codemirror_mode": {
    "name": "ipython",
    "version": 3
   },
   "file_extension": ".py",
   "mimetype": "text/x-python",
   "name": "python",
   "nbconvert_exporter": "python",
   "pygments_lexer": "ipython3",
   "version": "3.8.8"
  }
 },
 "nbformat": 4,
 "nbformat_minor": 5
}
